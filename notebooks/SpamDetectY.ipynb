{
  "nbformat": 4,
  "nbformat_minor": 0,
  "metadata": {
    "colab": {
      "name": "SpamDetectY.ipynb",
      "provenance": [],
      "collapsed_sections": []
    },
    "kernelspec": {
      "name": "python3",
      "display_name": "Python 3"
    },
    "language_info": {
      "name": "python"
    }
  },
  "cells": [
    {
      "cell_type": "markdown",
      "source": [
        "#Spam-Detect-Y 📩\n",
        "\n",
        "---\n",
        "\n",
        "\n",
        "\n",
        "**SpamDetectY**- Email and SMS spam detector ML. **This is notebook contains the source code for the open-source project SpamDetectY**\n",
        "\n",
        "#Introduction\n",
        "Features of SpamDetectY are as follows :-\n",
        "\n",
        "\n",
        "\n",
        "1.   Spam/Phising email detection\n",
        "2.   Spam sms detection\n",
        "3.   Uses modern machine learning techniques to achieve the  above mentioned features\n",
        "\n",
        "\n",
        "\n",
        "#Platforms\n",
        "1.  Provides powerful api\n",
        "2.  Available in the form of browser extension\n",
        "3.  Available in the form of android and ios app\n",
        "4.  Available in the form of desktop app for windows , mac os , linux\n",
        "\n",
        "#Important Links\n",
        "\n",
        "\n",
        "*   Github - https://github.com/akhichit2008/Spam-Detector-Y/\n",
        "*   Manual - https://github.com/akhichit2008/Spam-Detector-Y/blob/main/README.md\n",
        "\n",
        "\n"
      ],
      "metadata": {
        "id": "V0hKEXxufMzV"
      }
    },
    {
      "cell_type": "markdown",
      "source": [
        "**Import - \"Libraries and Frameworks\"**"
      ],
      "metadata": {
        "id": "S7fCpKARg0JS"
      }
    },
    {
      "cell_type": "code",
      "execution_count": 10,
      "metadata": {
        "id": "SnfE5hBId8_D"
      },
      "outputs": [],
      "source": [
        "import numpy as np\n",
        "import seaborn as sns\n",
        "import pandas as pd\n",
        "from sklearn.model_selection import train_test_split\n",
        "from sklearn.feature_extraction.text import CountVectorizer\n",
        "from sklearn.metrics import accuracy_score , classification_report,precision_score , recall_score, confusion_matrix\n",
        "from sklearn.naive_bayes import MultinomialNB\n",
        "import matplotlib.pyplot as plt\n",
        "import string\n",
        "import nltk\n",
        "from nltk.corpus import stopwords\n",
        "import pickle\n",
        "import os\n",
        "import shutil"
      ]
    },
    {
      "cell_type": "markdown",
      "source": [
        "**Exploring the dataset**"
      ],
      "metadata": {
        "id": "SXNlDHM59NhW"
      }
    },
    {
      "cell_type": "code",
      "source": [
        "data = pd.read_csv(\"/content/spamDETECTYDataset1\")\n",
        "data.shape\n",
        "data.columns\n",
        "data[\"message\"] = data[\"text\"]\n",
        "del data[\"text\"]\n",
        "data.drop_duplicates(inplace=True)\n",
        "print(data.head())\n",
        "x = data['spam'].unique()\n",
        "y = data['spam'].value_counts()\n",
        "pielabels = ['ham','spam']\n",
        "fig = plt.bar(x,y)\n",
        "plt.show()\n",
        "sns.pairplot(data[[\"message\",\"spam\"]],diag_kind=\"kde\")"
      ],
      "metadata": {
        "colab": {
          "base_uri": "https://localhost:8080/",
          "height": 567
        },
        "id": "MT68p-203x2m",
        "outputId": "e707cd9a-5c46-424a-9eed-b0732c710c00"
      },
      "execution_count": 38,
      "outputs": [
        {
          "output_type": "stream",
          "name": "stdout",
          "text": [
            "   spam                                            message\n",
            "0     1  Subject: naturally irresistible your corporate...\n",
            "1     1  Subject: the stock trading gunslinger  fanny i...\n",
            "2     1  Subject: unbelievable new homes made easy  im ...\n",
            "3     1  Subject: 4 color printing special  request add...\n",
            "4     1  Subject: do not have money , get software cds ...\n"
          ]
        },
        {
          "output_type": "display_data",
          "data": {
            "image/png": "[encoded data removed]",
            "text/plain": [
              "<Figure size 432x288 with 1 Axes>"
            ]
          },
          "metadata": {
            "needs_background": "light"
          }
        },
        {
          "output_type": "execute_result",
          "data": {
            "text/plain": [
              "<seaborn.axisgrid.PairGrid at 0x7f835f505a10>"
            ]
          },
          "metadata": {},
          "execution_count": 38
        },
        {
          "output_type": "display_data",
          "data": {
            "image/png": "[encoded data removed]",
            "text/plain": [
              "<Figure size 180x180 with 2 Axes>"
            ]
          },
          "metadata": {
            "needs_background": "light"
          }
        }
      ]
    },
    {
      "cell_type": "markdown",
      "source": [
        "**Text Pre Processing and Tokenization**"
      ],
      "metadata": {
        "id": "6m_b5ECD7t97"
      }
    },
    {
      "cell_type": "code",
      "source": [
        "nltk.download('stopwords')\n",
        "def textPreProcess(message):\n",
        "  non_punc = [char for char in message if char not in string.punctuation]\n",
        "  non_punc = ''.join(non_punc)\n",
        "  cleaned_version = [word for word in non_punc.split() if word.lower() not in stopwords.words('english')]\n",
        "  return cleaned_version\n",
        "\n",
        "data['message'].head().apply(textPreProcess)\n",
        "cv = CountVectorizer(analyzer=textPreProcess).fit_transform(data['message'])\n",
        "x_train , x_test , y_train , y_test = train_test_split(cv,data['spam'],test_size=0.20)\n",
        "cv.shape"
      ],
      "metadata": {
        "id": "uD8hqXlT7w5I",
        "colab": {
          "base_uri": "https://localhost:8080/"
        },
        "outputId": "aae6c5c5-8b04-473d-aab9-64ae5de1a016"
      },
      "execution_count": 4,
      "outputs": [
        {
          "output_type": "stream",
          "name": "stdout",
          "text": [
            "[nltk_data] Downloading package stopwords to /root/nltk_data...\n",
            "[nltk_data]   Unzipping corpora/stopwords.zip.\n"
          ]
        },
        {
          "output_type": "execute_result",
          "data": {
            "text/plain": [
              "(5695, 37229)"
            ]
          },
          "metadata": {},
          "execution_count": 4
        }
      ]
    },
    {
      "cell_type": "markdown",
      "source": [
        "**Creating and Training the Model**"
      ],
      "metadata": {
        "id": "7q_tJHhQ-gzd"
      }
    },
    {
      "cell_type": "code",
      "source": [
        "mdl = MultinomialNB()\n",
        "mdl.fit(x_train,y_train)\n",
        "prediction = mdl.predict(x_train)\n",
        "print(classification_report(y_train,prediction))\n",
        "print(\"Acc {}\".format(accuracy_score(y_train,prediction)))"
      ],
      "metadata": {
        "colab": {
          "base_uri": "https://localhost:8080/"
        },
        "id": "4sIzjL1r-nAj",
        "outputId": "b917c1b8-c01c-4fb1-feeb-2d79abee3976"
      },
      "execution_count": 5,
      "outputs": [
        {
          "output_type": "stream",
          "name": "stdout",
          "text": [
            "              precision    recall  f1-score   support\n",
            "\n",
            "           0       1.00      1.00      1.00      3476\n",
            "           1       0.99      1.00      0.99      1080\n",
            "\n",
            "    accuracy                           1.00      4556\n",
            "   macro avg       0.99      1.00      1.00      4556\n",
            "weighted avg       1.00      1.00      1.00      4556\n",
            "\n",
            "Acc 0.9971466198419666\n"
          ]
        }
      ]
    },
    {
      "cell_type": "markdown",
      "source": [
        "**Testing the Model**"
      ],
      "metadata": {
        "id": "So5f2mb5AKJ6"
      }
    },
    {
      "cell_type": "code",
      "source": [
        "test_data = x_test\n",
        "prediction = mdl.predict(x_test)\n",
        "print(classification_report(y_test,prediction))\n",
        "print(\"Acc {}\".format(accuracy_score(y_test,prediction)))"
      ],
      "metadata": {
        "colab": {
          "base_uri": "https://localhost:8080/"
        },
        "id": "yhbELT4eAMEF",
        "outputId": "050c7c82-30c9-4d1c-f62d-e0dfc3ceb873"
      },
      "execution_count": 8,
      "outputs": [
        {
          "output_type": "stream",
          "name": "stdout",
          "text": [
            "              precision    recall  f1-score   support\n",
            "\n",
            "           0       1.00      0.98      0.99       851\n",
            "           1       0.95      0.99      0.97       288\n",
            "\n",
            "    accuracy                           0.98      1139\n",
            "   macro avg       0.97      0.99      0.98      1139\n",
            "weighted avg       0.98      0.98      0.98      1139\n",
            "\n",
            "Acc 0.9833187006145742\n"
          ]
        }
      ]
    },
    {
      "cell_type": "markdown",
      "source": [
        "**Method for use in and by the api**"
      ],
      "metadata": {
        "id": "N0325xuadujp"
      }
    },
    {
      "cell_type": "code",
      "source": [
        "def use_model(data,model):\n",
        "  if type(data) == dict:\n",
        "    df = pd.DataFrame(data,index=[0])\n",
        "    message = df[\"message\"].apply(textPreProcess)\n",
        "    model.predict(message)\n",
        "  else:\n",
        "    print(\"Bad Data.The given data was not in a proper format\") \n",
        "  textPreProcess()  \n",
        "  pre = model.predict(data)\n",
        "  print(classification_report(data,pre))\n",
        "  print(\"Acc {}\".format(accuracy_score(data,pre)))"
      ],
      "metadata": {
        "id": "NPLg4tMvdzDs"
      },
      "execution_count": 29,
      "outputs": []
    },
    {
      "cell_type": "markdown",
      "source": [
        "**Packaging the model to a binary file**"
      ],
      "metadata": {
        "id": "lLCtfiOce42A"
      }
    },
    {
      "cell_type": "code",
      "source": [
        "final_model = mdl\n",
        "with open(\"sdy.bin\",\"wb\") as md_file:\n",
        "    pickle.dump(final_model,md_file)\n",
        "    md_file.close()"
      ],
      "metadata": {
        "id": "lvtN3PVue8te"
      },
      "execution_count": 12,
      "outputs": []
    },
    {
      "cell_type": "markdown",
      "source": [
        "Testing api method locally inside of the same notebook"
      ],
      "metadata": {
        "id": "8jz0x5snh3Cq"
      }
    },
    {
      "cell_type": "code",
      "source": [
        "data = {\n",
        "    \"message\":\"This is spam\"\n",
        "}\n",
        "with open(\"/content/sdy.bin\",\"rb\") as md_file:\n",
        "  model = pickle.load(md_file)\n",
        "  md_file.close()\n",
        "pre = use_model(data,model) \n",
        "print(pre)  "
      ],
      "metadata": {
        "id": "YRxrYMpfh7XE"
      },
      "execution_count": null,
      "outputs": []
    }
  ]
}