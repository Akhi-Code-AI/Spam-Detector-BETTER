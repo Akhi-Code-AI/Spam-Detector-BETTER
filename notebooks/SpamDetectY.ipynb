{
  "nbformat": 4,
  "nbformat_minor": 0,
  "metadata": {
    "colab": {
      "name": "SpamDetectY.ipynb",
      "provenance": [],
      "collapsed_sections": []
    },
    "kernelspec": {
      "name": "python3",
      "display_name": "Python 3"
    },
    "language_info": {
      "name": "python"
    }
  },
  "cells": [
    {
      "cell_type": "markdown",
      "source": [
        "#Spam-Detect-Y 📩\n",
        "\n",
        "---\n",
        "\n",
        "\n",
        "\n",
        "**SpamDetectY**- Email and SMS spam detector ML. **This is notebook contains the source code for the open-source project SpamDetectY**\n",
        "\n",
        "#Introduction\n",
        "Features of SpamDetectY are as follows :-\n",
        "\n",
        "\n",
        "\n",
        "1.   Spam/Phising email detection\n",
        "2.   Spam sms detection\n",
        "3.   Uses modern machine learning techniques to achieve the  above mentioned features\n",
        "\n",
        "\n",
        "\n",
        "#Platforms\n",
        "1.  Provides powerful api\n",
        "2.  Available in the form of browser extension\n",
        "3.  Available in the form of android and ios app\n",
        "4.  Available in the form of desktop app for windows , mac os , linux\n",
        "\n",
        "#Important Links\n",
        "\n",
        "\n",
        "*   Github - [https://github.com/akhichit2008/Spam-Detector-Y/](https://github.com/akhichit2008/Spam-Detector-Y/)\n",
        "*   Manual - [https://github.com/akhichit2008/Spam-Detector-Y/blob/main/README.md] (https://github.com/akhichit2008/Spam-Detector-Y/blob/main/MANUAL.md)\n",
        "\n",
        "\n"
      ],
      "metadata": {
        "id": "V0hKEXxufMzV"
      }
    },
    {
      "cell_type": "markdown",
      "source": [
        "**Import - \"Libraries and Frameworks\"**"
      ],
      "metadata": {
        "id": "S7fCpKARg0JS"
      }
    },
    {
      "cell_type": "code",
      "execution_count": 25,
      "metadata": {
        "id": "SnfE5hBId8_D"
      },
      "outputs": [],
      "source": [
        "import numpy as np\n",
        "import seaborn as sns\n",
        "import pandas as pd\n",
        "from sklearn.model_selection import train_test_split\n",
        "from sklearn.feature_extraction.text import CountVectorizer\n",
        "from sklearn.metrics import accuracy_score , classification_report,precision_score , recall_score, confusion_matrix\n",
        "from sklearn.naive_bayes import MultinomialNB\n",
        "import matplotlib.pyplot as plt\n",
        "import string\n",
        "import nltk\n",
        "from nltk.corpus import stopwords"
      ]
    },
    {
      "cell_type": "markdown",
      "source": [
        "**Exploring the dataset**"
      ],
      "metadata": {
        "id": "SXNlDHM59NhW"
      }
    },
    {
      "cell_type": "code",
      "source": [
        "data = pd.read_csv(\"/content/spamdetectYdataemailversion\")\n",
        "data.shape\n",
        "data.columns\n",
        "data[\"message\"] = data[\"text\"]\n",
        "del data[\"text\"]\n",
        "data.drop_duplicates(inplace=True)\n",
        "print(data.head())\n",
        "x = data['spam'].unique()\n",
        "y = data['spam'].value_counts()\n",
        "pielabels = ['ham','spam']\n",
        "fig = plt.bar(x,y)\n",
        "plt.show()"
      ],
      "metadata": {
        "colab": {
          "base_uri": "https://localhost:8080/",
          "height": 369
        },
        "id": "MT68p-203x2m",
        "outputId": "1c65b579-2462-42a4-8853-afdf3d10078a"
      },
      "execution_count": 26,
      "outputs": [
        {
          "output_type": "stream",
          "name": "stdout",
          "text": [
            "   spam                                            message\n",
            "0     1  Subject: naturally irresistible your corporate...\n",
            "1     1  Subject: the stock trading gunslinger  fanny i...\n",
            "2     1  Subject: unbelievable new homes made easy  im ...\n",
            "3     1  Subject: 4 color printing special  request add...\n",
            "4     1  Subject: do not have money , get software cds ...\n"
          ]
        },
        {
          "output_type": "display_data",
          "data": {
            "image/png": "[encoded data removed]",
            "text/plain": [
              "<Figure size 432x288 with 1 Axes>"
            ]
          },
          "metadata": {
            "needs_background": "light"
          }
        }
      ]
    },
    {
      "cell_type": "markdown",
      "source": [
        "**Text Pre Processing and Tokenization**"
      ],
      "metadata": {
        "id": "6m_b5ECD7t97"
      }
    },
    {
      "cell_type": "code",
      "source": [
        "nltk.download('stopwords')\n",
        "def textPreProcess(message):\n",
        "  non_punc = [char for char in message if char not in string.punctuation]\n",
        "  non_punc = ''.join(non_punc)\n",
        "  cleaned_version = [word for word in non_punc.split() if word.lower() not in stopwords.words('english')]\n",
        "  return cleaned_version\n",
        "\n",
        "data['message'].head().apply(textPreProcess)\n",
        "cv = CountVectorizer(analyzer=textPreProcess).fit_transform(data['message'])\n",
        "x_train , x_test , y_train , y_test = train_test_split(cv,data['spam'],test_size=0.20)\n",
        "cv.shape"
      ],
      "metadata": {
        "id": "uD8hqXlT7w5I"
      },
      "execution_count": null,
      "outputs": []
    },
    {
      "cell_type": "markdown",
      "source": [
        "**Creating and Training the Model**"
      ],
      "metadata": {
        "id": "7q_tJHhQ-gzd"
      }
    },
    {
      "cell_type": "code",
      "source": [
        "mdl = MultinomialNB()\n",
        "mdl.fit(x_train,y_train)\n",
        "prediction = mdl.predict(x_train)\n",
        "print(classification_report(y_train,prediction))\n",
        "print(\"Acc {}\".format(accuracy_score(y_train,prediction)))"
      ],
      "metadata": {
        "colab": {
          "base_uri": "https://localhost:8080/"
        },
        "id": "4sIzjL1r-nAj",
        "outputId": "978b11bf-327c-4484-a2d0-41a5580f9716"
      },
      "execution_count": 28,
      "outputs": [
        {
          "output_type": "stream",
          "name": "stdout",
          "text": [
            "              precision    recall  f1-score   support\n",
            "\n",
            "           0       1.00      1.00      1.00      3466\n",
            "           1       0.99      1.00      0.99      1090\n",
            "\n",
            "    accuracy                           1.00      4556\n",
            "   macro avg       1.00      1.00      1.00      4556\n",
            "weighted avg       1.00      1.00      1.00      4556\n",
            "\n",
            "Acc 0.997585601404741\n"
          ]
        }
      ]
    },
    {
      "cell_type": "markdown",
      "source": [
        "**Testing the Model**"
      ],
      "metadata": {
        "id": "So5f2mb5AKJ6"
      }
    },
    {
      "cell_type": "code",
      "source": [
        "test_data = x_test\n",
        "prediction = mdl.predict(x_test)\n",
        "print(classification_report(y_test,prediction))\n",
        "print(\"Acc {}\".format(accuracy_score(y_test,prediction)))"
      ],
      "metadata": {
        "colab": {
          "base_uri": "https://localhost:8080/"
        },
        "id": "yhbELT4eAMEF",
        "outputId": "144a69d6-ef89-4d39-d8a6-00df7f39ff01"
      },
      "execution_count": 29,
      "outputs": [
        {
          "output_type": "stream",
          "name": "stdout",
          "text": [
            "              precision    recall  f1-score   support\n",
            "\n",
            "           0       1.00      0.99      0.99       861\n",
            "           1       0.97      0.99      0.98       278\n",
            "\n",
            "    accuracy                           0.99      1139\n",
            "   macro avg       0.98      0.99      0.99      1139\n",
            "weighted avg       0.99      0.99      0.99      1139\n",
            "\n",
            "Acc 0.990342405618964\n"
          ]
        }
      ]
    }
  ]
}